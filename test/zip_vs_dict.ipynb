{
 "cells": [
  {
   "cell_type": "code",
   "execution_count": null,
   "metadata": {},
   "outputs": [],
   "source": [
    "import timeit\n",
    "from random import randint\n",
    "\n",
    "# size = randint(4,9)\n",
    "size = 11\n",
    "\n",
    "grp = [[(0 if randint(1,9) > 4 else 1) for _ in range(size)] for _ in range(size)]\n",
    "\n",
    "for row in grp:\n",
    "    for el in row:\n",
    "        print(el, end=\" \")\n",
    "    print()\n",
    "    \n",
    "def solution_use_zip():\n",
    "    \n",
    "    dxs = [ 1, -1,  0,  0 ] \n",
    "    dys = [ 0,  0,  1, -1 ]\n",
    "    \n",
    "    rst_counter = 0\n",
    "    \n",
    "    for idx in range(size):\n",
    "        for jdx in range(size):\n",
    "            \n",
    "            rst_counter += 1 if sum(\n",
    "                0 <= idx + dx < size and \n",
    "                0 <= jdx + dy < size and \n",
    "                grp[idx + dx][jdx + dy] == 1\n",
    "                for dx, dy in zip(dxs, dys)\n",
    "            ) >= 3 else 0\n",
    "\n",
    "def solution_use_dict():\n",
    "    \n",
    "    moves = [\n",
    "        ( 1,  0), \n",
    "        ( 0,  1), \n",
    "        (-1,  0),\n",
    "        ( 0, -1)\n",
    "    ] \n",
    "\n",
    "    rst_counter = 0\n",
    "    \n",
    "    for idx in range(size):\n",
    "        for jdx in range(size):\n",
    "            \n",
    "            rst_counter += 1 if sum(\n",
    "                0 <= idx + dx < size and \n",
    "                0 <= jdx + dy < size and \n",
    "                grp[idx + dx][jdx + dy] == 1\n",
    "                for dx, dy in moves\n",
    "            ) >= 3 else 0\n",
    "            \n",
    "test_time = 5000\n",
    "\n",
    "print(timeit.timeit(\"solution_use_zip()\", number=test_time, globals=globals()))  \n",
    "print(timeit.timeit(\"solution_use_dict()\", number=test_time, globals=globals()))"
   ]
  },
  {
   "cell_type": "markdown",
   "metadata": {},
   "source": [
    "dict를 사용하는게 유의미 하게 빠름"
   ]
  }
 ],
 "metadata": {
  "language_info": {
   "name": "python"
  }
 },
 "nbformat": 4,
 "nbformat_minor": 2
}
