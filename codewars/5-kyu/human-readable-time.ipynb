{
 "cells": [
  {
   "cell_type": "code",
   "execution_count": null,
   "metadata": {
    "vscode": {
     "languageId": "javascript"
    }
   },
   "outputs": [],
   "source": [
    "\n",
    "const formatTime = seconds => {\n",
    "  let hours = Math.floor(seconds / 3600).toString().padStart(2, '0');\n",
    "  let minutes = Math.floor((seconds % 3600) / 60).toString().padStart(2, '0');\n",
    "  let remainingSeconds = (seconds % 60).toString().padStart(2, '0');\n",
    "  \n",
    "  return `${hours}:${minutes}:${remainingSeconds}`;\n",
    "}"
   ]
  },
  {
   "cell_type": "code",
   "execution_count": null,
   "metadata": {
    "vscode": {
     "languageId": "javascript"
    }
   },
   "outputs": [],
   "source": [
    "const formatTime = seconds => `${Math.floor(seconds / 3600).toString().padStart(2, '0')}:${Math.floor((seconds % 3600) / 60).toString().padStart(2, '0')}:${(seconds % 60).toString().padStart(2, '0')}`;"
   ]
  },
  {
   "cell_type": "code",
   "execution_count": null,
   "metadata": {
    "vscode": {
     "languageId": "javascript"
    }
   },
   "outputs": [],
   "source": [
    "const padZero = (x) => x.toString().padStart(2,'0')\n",
    "\n",
    "const humanReadable = (seconds) => \n",
    "  padZero(Math.floor(seconds / (60 * 60))) + \":\" +\n",
    "  padZero(Math.floor(seconds / 60 % 60)) + \":\" +\n",
    "  padZero(seconds % 60)"
   ]
  },
  {
   "cell_type": "code",
   "execution_count": null,
   "metadata": {
    "vscode": {
     "languageId": "javascript"
    }
   },
   "outputs": [],
   "source": [
    "const padZero = (x) => x.toString().padStart(2, '0');\n",
    "\n",
    "const humanReadable = (seconds) => [\n",
    "    Math.floor(seconds / (60 * 60)),\n",
    "    Math.floor(seconds / 60 % 60),\n",
    "    seconds % 60\n",
    "  ].map(padZero).join(\":\");\n",
    "\n"
   ]
  },
  {
   "cell_type": "code",
   "execution_count": null,
   "metadata": {
    "vscode": {
     "languageId": "javascript"
    }
   },
   "outputs": [],
   "source": [
    "const humanReadable = (seconds) => [\n",
    "    Math.floor(seconds / (60 * 60)),\n",
    "    Math.floor(seconds / 60 % 60),\n",
    "    seconds % 60\n",
    "].map(x => x.toString().padStart(2, '0')).join(\":\");\n",
    "\n"
   ]
  }
 ],
 "metadata": {
  "language_info": {
   "name": "python"
  }
 },
 "nbformat": 4,
 "nbformat_minor": 2
}
