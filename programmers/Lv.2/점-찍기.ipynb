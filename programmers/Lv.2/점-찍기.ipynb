{
 "cells": [
  {
   "cell_type": "code",
   "execution_count": null,
   "metadata": {},
   "outputs": [],
   "source": [
    "def solution(k, d):\n",
    "    answer = 0\n",
    "\n",
    "    temp_x  = 0 \n",
    "    while True:\n",
    "        \n",
    "        temp_y = 0\n",
    "        if temp_x**2 + temp_y**2 >  d ** 2: break\n",
    "\n",
    "        answer += 1\n",
    "        temp_x += k\n",
    "\n",
    "        while True:\n",
    "            if temp_x**2 + temp_y**2 >  d ** 2: break\n",
    "\n",
    "            answer += 1\n",
    "            temp_y += k\n",
    "\n",
    "    return answer"
   ]
  },
  {
   "cell_type": "code",
   "execution_count": null,
   "metadata": {},
   "outputs": [],
   "source": [
    "def solution(k, d):\n",
    "    count = 0\n",
    "    max_limit = d // k\n",
    "    for a in range(max_limit + 1):\n",
    "        for b in range(max_limit + 1):\n",
    "            if (a*k)**2 + (b*k)**2 <= d**2:\n",
    "                count += 1\n",
    "    return count\n"
   ]
  },
  {
   "cell_type": "code",
   "execution_count": null,
   "metadata": {},
   "outputs": [],
   "source": [
    "def solution(k, d):\n",
    "    count = 0\n",
    "    for a in range(d//k + 1):\n",
    "        max_b = int(((d ** 2) - (a * k) ** 2) ** 0.5) // k\n",
    "        count += max_b + 1\n",
    "    return count\n"
   ]
  },
  {
   "cell_type": "code",
   "execution_count": null,
   "metadata": {},
   "outputs": [],
   "source": [
    "from functools import reduce\n",
    "def solution (k,d) :\n",
    "    return reduce(\n",
    "        lambda acc, value: \n",
    "            acc + int(( (d**2) - (value*k) ** 2) ** 0.5) // k, \n",
    "        [i for i in range((d//k) + 1)],0\n",
    "        )"
   ]
  },
  {
   "cell_type": "code",
   "execution_count": null,
   "metadata": {},
   "outputs": [],
   "source": [
    "def solution(k, d):\n",
    "    count = 0\n",
    "    for a in range(0, d//k + 1):\n",
    "        count += 1 + int(((d ** 2) - (a * k) ** 2) ** 0.5) // k\n",
    "    return count\n",
    "\n",
    "\"\"\"\n",
    "테스트 1 〉\t    통과 (0.02ms, 10.2MB)\n",
    "테스트 2 〉\t    통과 (0.02ms, 10.2MB)\n",
    "테스트 3 〉\t    통과 (2.25ms, 10.2MB)\n",
    "테스트 4 〉\t    통과 (2.44ms, 10.1MB)\n",
    "테스트 5 〉\t    통과 (3.38ms, 10.1MB)\n",
    "테스트 6 〉\t    통과 (3.01ms, 10.4MB)\n",
    "테스트 7 〉\t    통과 (2.24ms, 10.1MB)\n",
    "테스트 8 〉\t    통과 (29.79ms, 10.2MB)\n",
    "테스트 9 〉\t    통과 (3.30ms, 10.2MB)\n",
    "테스트 10 〉\t통과 (7.25ms, 10.1MB)\n",
    "테스트 11 〉\t통과 (744.30ms, 10.3MB)\n",
    "테스트 12 〉\t통과 (0.02ms, 10.1MB)\n",
    "테스트 13 〉\t통과 (343.29ms, 10.4MB)\n",
    "테스트 14 〉\t통과 (230.54ms, 10.4MB)\n",
    "테스트 15 〉\t통과 (0.02ms, 10.1MB)\n",
    "테스트 16 〉\t통과 (0.01ms, 10.1MB)\n",
    "\"\"\""
   ]
  },
  {
   "cell_type": "code",
   "execution_count": null,
   "metadata": {},
   "outputs": [],
   "source": [
    "from functools import reduce\n",
    "def solution (k,d) :\n",
    "    return reduce(\n",
    "        lambda acc, value: \n",
    "            acc + 1 + int(( (d**2) - (value*k) ** 2) ** 0.5) // k, \n",
    "        [i for i in range((d//k) + 1)],0\n",
    "    )\n",
    "    \n",
    "\"\"\"\n",
    "테스트 1 〉\t    통과 (0.01ms, 10MB)\n",
    "테스트 2 〉\t    통과 (0.02ms, 10.1MB)\n",
    "테스트 3 〉\t    통과 (2.52ms, 10.5MB)\n",
    "테스트 4 〉\t    통과 (1.38ms, 10.3MB)\n",
    "테스트 5 〉\t    통과 (3.78ms, 10.4MB)\n",
    "테스트 6 〉\t    통과 (3.38ms, 10.6MB)\n",
    "테스트 7 〉\t    통과 (1.77ms, 10.3MB)\n",
    "테스트 8 〉\t    통과 (33.37ms, 11.6MB)\n",
    "테스트 9 〉\t    통과 (4.07ms, 10.2MB)\n",
    "테스트 10 〉\t통과 (7.22ms, 10.4MB)\n",
    "테스트 11 〉\t통과 (830.47ms, 48.6MB)\n",
    "테스트 12 〉\t통과 (0.02ms, 10.1MB)\n",
    "테스트 13 〉\t통과 (388.83ms, 29.4MB)\n",
    "테스트 14 〉\t통과 (266.33ms, 22.9MB)\n",
    "테스트 15 〉\t통과 (0.02ms, 10.1MB)\n",
    "테스트 16 〉\t통과 (0.01ms, 10.1MB)\n",
    "\"\"\""
   ]
  }
 ],
 "metadata": {
  "language_info": {
   "name": "python"
  }
 },
 "nbformat": 4,
 "nbformat_minor": 2
}
